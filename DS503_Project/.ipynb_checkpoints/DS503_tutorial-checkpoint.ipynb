{
 "cells": [
  {
   "cell_type": "code",
   "execution_count": 1,
   "id": "e2da1156",
   "metadata": {},
   "outputs": [
    {
     "name": "stdout",
     "output_type": "stream",
     "text": [
      "using device : cuda\tNVIDIA GeForce RTX 3060 Laptop GPU\n",
      "Mode = (fashion, face) \n",
      "Input : fashion\n",
      "Model loading...\n"
     ]
    },
    {
     "ename": "NameError",
     "evalue": "name 'Model' is not defined",
     "output_type": "error",
     "traceback": [
      "\u001b[1;31m---------------------------------------------------------------------------\u001b[0m",
      "\u001b[1;31mNameError\u001b[0m                                 Traceback (most recent call last)",
      "Cell \u001b[1;32mIn[1], line 26\u001b[0m\n\u001b[0;32m     22\u001b[0m         \u001b[38;5;28mprint\u001b[39m(\u001b[38;5;124m'\u001b[39m\u001b[38;5;124mWrong input!\u001b[39m\u001b[38;5;124m'\u001b[39m)\n\u001b[0;32m     24\u001b[0m \u001b[38;5;28mprint\u001b[39m(\u001b[38;5;124m'\u001b[39m\u001b[38;5;124mModel loading...\u001b[39m\u001b[38;5;124m'\u001b[39m)\n\u001b[1;32m---> 26\u001b[0m model \u001b[38;5;241m=\u001b[39m \u001b[43mModel\u001b[49m( beta \u001b[38;5;241m=\u001b[39m \u001b[38;5;124m'\u001b[39m\u001b[38;5;124mlinear\u001b[39m\u001b[38;5;124m'\u001b[39m, T \u001b[38;5;241m=\u001b[39m \u001b[38;5;241m1000\u001b[39m , device \u001b[38;5;241m=\u001b[39m device, image_shape \u001b[38;5;241m=\u001b[39m image_shape) \n\u001b[0;32m     27\u001b[0m model_2 \u001b[38;5;241m=\u001b[39m Model( beta \u001b[38;5;241m=\u001b[39m \u001b[38;5;124m'\u001b[39m\u001b[38;5;124minterpolate_linear\u001b[39m\u001b[38;5;124m'\u001b[39m, T \u001b[38;5;241m=\u001b[39m \u001b[38;5;241m400\u001b[39m , device \u001b[38;5;241m=\u001b[39m device, image_shape \u001b[38;5;241m=\u001b[39m image_shape) \n\u001b[0;32m     28\u001b[0m model\u001b[38;5;241m.\u001b[39mmodel_load(mode)\n",
      "\u001b[1;31mNameError\u001b[0m: name 'Model' is not defined"
     ]
    }
   ],
   "source": [
    "import torch\n",
    "import os\n",
    "import matplotlib.pyplot as plt\n",
    "from helper import show_images, recursive_interpolation\n",
    "\n",
    "MNIST_IMAGE_SHAPE = (1,28,28)\n",
    "FACE_IMAGE_SHAPE = (1,300,300)\n",
    "device = torch.device('cuda' if torch.cuda.is_available() else 'cpu')\n",
    "print(f'using device : {device}\\t'  + (f'{torch.cuda.get_device_name(0)}' if torch.cuda.is_available() else 'CPU' ))\n",
    "\n",
    "image_shape = None\n",
    "\n",
    "mode = ''\n",
    "\n",
    "while(mode not in ('fashion', 'face')) :\n",
    "    mode = input('Mode = (fashion, face) \\nInput : ')\n",
    "    if mode == 'face' :\n",
    "        image_shape = FACE_IMAGE_SHAPE\n",
    "    elif mode == 'fashion' :\n",
    "        image_shape = MNIST_IMAGE_SHAPE\n",
    "    else :\n",
    "        print('Wrong input!')\n",
    "\n",
    "print('Model loading...')\n",
    "\n",
    "model = Model( beta = 'linear', T = 1000 , device = device, image_shape = image_shape) \n",
    "model_2 = Model( beta = 'interpolate_linear', T = 400 , device = device, image_shape = image_shape) \n",
    "model.model_load(mode)\n",
    "model_2.model_load(mode)\n",
    "\n",
    "print('\\nModel is ready.\\n')"
   ]
  },
  {
   "cell_type": "code",
   "execution_count": null,
   "id": "88fe3051",
   "metadata": {},
   "outputs": [],
   "source": [
    "recursive_interpolation(model, model_2, n_samples = 16, num_iter = 30)"
   ]
  },
  {
   "cell_type": "code",
   "execution_count": null,
   "id": "54d112dc",
   "metadata": {},
   "outputs": [],
   "source": []
  }
 ],
 "metadata": {
  "kernelspec": {
   "display_name": "Python 3 (ipykernel)",
   "language": "python",
   "name": "python3"
  },
  "language_info": {
   "codemirror_mode": {
    "name": "ipython",
    "version": 3
   },
   "file_extension": ".py",
   "mimetype": "text/x-python",
   "name": "python",
   "nbconvert_exporter": "python",
   "pygments_lexer": "ipython3",
   "version": "3.9.16"
  }
 },
 "nbformat": 4,
 "nbformat_minor": 5
}
