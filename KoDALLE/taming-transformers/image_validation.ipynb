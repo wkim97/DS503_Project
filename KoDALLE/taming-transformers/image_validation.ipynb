{
 "cells": [
  {
   "cell_type": "code",
   "execution_count": 1,
   "metadata": {},
   "outputs": [
    {
     "name": "stdout",
     "output_type": "stream",
     "text": [
      "558114 551851\n"
     ]
    }
   ],
   "source": [
    "from pathlib import Path\n",
    "\n",
    "text_folder = \"/opt/ml/DALLE-Couture/data/train_label\"\n",
    "text_paths = Path(text_folder)\n",
    "text_files = [*text_paths.glob(\"**/*.txt\")]\n",
    "\n",
    "image_folder = \"/opt/ml/DALLE-Couture/data/cropped_train_img\"\n",
    "image_paths = Path(image_folder)\n",
    "image_files = [*image_paths.glob(\"**/*.jpg\")]\n",
    "\n",
    "print(len(text_files), len(image_files))"
   ]
  },
  {
   "cell_type": "code",
   "execution_count": 11,
   "metadata": {},
   "outputs": [
    {
     "name": "stderr",
     "output_type": "stream",
     "text": [
      "100%|██████████| 551851/551851 [01:11<00:00, 7735.85it/s]\n"
     ]
    }
   ],
   "source": [
    "from PIL import Image\n",
    "import os\n",
    "from tqdm import tqdm\n",
    "\n",
    "for image_path in tqdm(image_files):\n",
    "    category = image_path.parent.name\n",
    "    basename = os.path.basename(image_path)\n",
    "    basename_without_extension = os.path.splitext(basename)[0]  # 파일명에서 .json 확장자를 제거하여 가져옵니다.\n",
    "    \n",
    "    text_path = os.path.join(text_folder, f\"{category}\",f\"{basename_without_extension}.txt\")\n",
    "    # print(category)\n",
    "    # assert 1 == 2\n",
    "    if not os.path.exists(text_path):\n",
    "        print(f\"{text_path} not exists\")\n",
    "        continue\n",
    "    \n",
    "    # open image using PIL\n",
    "    \n",
    "    # PIL.UnidentifiedImageError: cannot identify image file '/opt/ml/DALLE-Couture/data/cropped_train_img/로맨틱/365247.jpg'\n",
    "    try:\n",
    "      im = Image.open(image_path)\n",
    "      im.verify()\n",
    "    except:\n",
    "      print(f\"GOTCHA!: {image_path}\")\n",
    "      os.remove(image_path)\n",
    "      os.remove(text_path)\n"
   ]
  },
  {
   "cell_type": "code",
   "execution_count": 10,
   "metadata": {},
   "outputs": [],
   "source": [
    "import os\n",
    "import random\n",
    "\n",
    "from pathlib import Path\n",
    "\n",
    "random.seed(42)\n",
    "\n",
    "image_cropped_path = \"/opt/ml/DALLE-Couture/data/cropped_train_img\"\n",
    "image_path = Path(image_cropped_path)\n",
    "\n",
    "image_files = [\n",
    "    *image_path.glob(\"**/*.png\"),\n",
    "    *image_path.glob(\"**/*.jpg\"),\n",
    "    *image_path.glob(\"**/*.jpeg\"),\n",
    "]\n",
    "\n",
    "\n",
    "random.shuffle(image_files)\n",
    "\n",
    "train_image_files = image_files[:-10000]\n",
    "with open(\"/opt/ml/taming-transformers/data/train_500k.txt\", \"w\", encoding=\"utf-8\") as f:\n",
    "    for train_image_file in train_image_files:\n",
    "        train_image_file = str(train_image_file) + \"\\n\"\n",
    "        f.write(train_image_file)\n",
    "\n",
    "test_image_files = image_files[-10000:]\n",
    "with open(\"/opt/ml/taming-transformers/data/test_500k.txt\", \"w\", encoding=\"utf-8\") as f:\n",
    "    for test_image_file in test_image_files:\n",
    "        test_image_file = str(test_image_file) + \"\\n\"\n",
    "        f.write(test_image_file)\n"
   ]
  },
  {
   "cell_type": "code",
   "execution_count": null,
   "metadata": {},
   "outputs": [],
   "source": []
  }
 ],
 "metadata": {
  "interpreter": {
   "hash": "d4d1e4263499bec80672ea0156c357c1ee493ec2b1c70f0acce89fc37c4a6abe"
  },
  "kernelspec": {
   "display_name": "Python 3.8.5 64-bit ('base': conda)",
   "language": "python",
   "name": "python3"
  },
  "language_info": {
   "codemirror_mode": {
    "name": "ipython",
    "version": 3
   },
   "file_extension": ".py",
   "mimetype": "text/x-python",
   "name": "python",
   "nbconvert_exporter": "python",
   "pygments_lexer": "ipython3",
   "version": "3.8.5"
  },
  "orig_nbformat": 4
 },
 "nbformat": 4,
 "nbformat_minor": 2
}
