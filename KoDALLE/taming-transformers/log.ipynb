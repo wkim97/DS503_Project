{
 "cells": [
  {
   "cell_type": "code",
   "execution_count": 2,
   "metadata": {},
   "outputs": [
    {
     "data": {
      "text/plain": [
       "Index(['val/rec_loss_step/epoch_0', 'val/aeloss_step/epoch_0', 'created_at',\n",
       "       'train/aeloss_step', 'train/total_loss_step', 'train/quant_loss_step',\n",
       "       'train/nll_loss_step', 'train/rec_loss_step', 'train/p_loss_step',\n",
       "       'train/d_weight_step', 'train/disc_factor_step', 'train/g_loss_step',\n",
       "       'train/discloss_step', 'train/disc_loss_step', 'train/logits_real_step',\n",
       "       'train/logits_fake_step', 'epoch', 'val/rec_loss_epoch', 'val/rec_loss',\n",
       "       'val/aeloss_epoch', 'val/total_loss', 'val/quant_loss', 'val/nll_loss',\n",
       "       'val/p_loss', 'val/d_weight', 'val/disc_factor', 'val/g_loss',\n",
       "       'val/disc_loss', 'val/logits_real', 'val/logits_fake',\n",
       "       'train/aeloss_epoch', 'train/total_loss_epoch',\n",
       "       'train/quant_loss_epoch', 'train/nll_loss_epoch',\n",
       "       'train/rec_loss_epoch', 'train/p_loss_epoch', 'train/d_weight_epoch',\n",
       "       'train/disc_factor_epoch', 'train/g_loss_epoch', 'train/discloss_epoch',\n",
       "       'train/disc_loss_epoch', 'train/logits_real_epoch',\n",
       "       'train/logits_fake_epoch', 'val/rec_loss_step/epoch_1',\n",
       "       'val/aeloss_step/epoch_1'],\n",
       "      dtype='object')"
      ]
     },
     "execution_count": 2,
     "metadata": {},
     "output_type": "execute_result"
    }
   ],
   "source": [
    "import pandas as pd\n",
    "import matplotlib\n",
    "\n",
    "# each experiment is saved to a metrics.csv file which can be imported anywhere\n",
    "# images save to exp/version/images\n",
    "df = pd.read_csv('/opt/ml/taming-transformers/logs/2021-12-13T16-11-34_custom_vqgan/testtube/version_0/metrics.csv')\n",
    "df.columns\n"
   ]
  },
  {
   "cell_type": "code",
   "execution_count": 3,
   "metadata": {},
   "outputs": [
    {
     "data": {
      "text/plain": [
       "<AxesSubplot:>"
      ]
     },
     "execution_count": 3,
     "metadata": {},
     "output_type": "execute_result"
    },
    {
     "data": {
      "image/png": "[encoded data removed]",
      "text/plain": [
       "<Figure size 432x288 with 1 Axes>"
      ]
     },
     "metadata": {
      "needs_background": "light"
     },
     "output_type": "display_data"
    }
   ],
   "source": [
    "df[\"val/aeloss_step/epoch_0\"].plot()"
   ]
  },
  {
   "cell_type": "code",
   "execution_count": null,
   "metadata": {},
   "outputs": [],
   "source": []
  }
 ],
 "metadata": {
  "interpreter": {
   "hash": "d4d1e4263499bec80672ea0156c357c1ee493ec2b1c70f0acce89fc37c4a6abe"
  },
  "kernelspec": {
   "display_name": "Python 3.8.5 64-bit ('base': conda)",
   "language": "python",
   "name": "python3"
  },
  "language_info": {
   "codemirror_mode": {
    "name": "ipython",
    "version": 3
   },
   "file_extension": ".py",
   "mimetype": "text/x-python",
   "name": "python",
   "nbconvert_exporter": "python",
   "pygments_lexer": "ipython3",
   "version": "3.8.5"
  },
  "orig_nbformat": 4
 },
 "nbformat": 4,
 "nbformat_minor": 2
}
